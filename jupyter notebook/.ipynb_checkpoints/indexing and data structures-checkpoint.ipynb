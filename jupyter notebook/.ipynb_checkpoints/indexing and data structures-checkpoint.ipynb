{
 "cells": [
  {
   "cell_type": "markdown",
   "id": "68960e29-1925-4068-be0b-d8ea93b009cc",
   "metadata": {},
   "source": [
    "# - indexing"
   ]
  },
  {
   "cell_type": "code",
   "execution_count": 6,
   "id": "9944df14-4998-4adb-9f6b-c95e70a8c5c1",
   "metadata": {},
   "outputs": [
    {
     "data": {
      "text/plain": [
       "'samosa pakora'"
      ]
     },
     "execution_count": 6,
     "metadata": {},
     "output_type": "execute_result"
    }
   ],
   "source": [
    "# make a string\n",
    "a = \"samosa pakora\"\n",
    "a"
   ]
  },
  {
   "cell_type": "code",
   "execution_count": 32,
   "id": "fce70cf1-4e77-44f1-8ab8-e464c56e1128",
   "metadata": {},
   "outputs": [
    {
     "data": {
      "text/plain": [
       "'samosa pakora'"
      ]
     },
     "execution_count": 32,
     "metadata": {},
     "output_type": "execute_result"
    }
   ],
   "source": [
    "a"
   ]
  },
  {
   "cell_type": "code",
   "execution_count": 25,
   "id": "34f003a1-5bd1-4b01-88b8-032281f77c0a",
   "metadata": {},
   "outputs": [
    {
     "data": {
      "text/plain": [
       "13"
      ]
     },
     "execution_count": 25,
     "metadata": {},
     "output_type": "execute_result"
    }
   ],
   "source": [
    "# leng of indeces\n",
    "len(a)"
   ]
  },
  {
   "cell_type": "code",
   "execution_count": 15,
   "id": "50596acc-0dd4-4a4a-862c-509d2bb39784",
   "metadata": {},
   "outputs": [
    {
     "data": {
      "text/plain": [
       "'s'"
      ]
     },
     "execution_count": 15,
     "metadata": {},
     "output_type": "execute_result"
    }
   ],
   "source": [
    "a[0]"
   ]
  },
  {
   "cell_type": "code",
   "execution_count": 27,
   "id": "15d422bd-2a9c-40bc-88f6-f6357eaca4d0",
   "metadata": {},
   "outputs": [
    {
     "data": {
      "text/plain": [
       "'a'"
      ]
     },
     "execution_count": 27,
     "metadata": {},
     "output_type": "execute_result"
    }
   ],
   "source": [
    "a[1]"
   ]
  },
  {
   "cell_type": "code",
   "execution_count": 36,
   "id": "6bd736fd-35f5-4113-ad7b-15fa666f9cd9",
   "metadata": {},
   "outputs": [
    {
     "data": {
      "text/plain": [
       "'a'"
      ]
     },
     "execution_count": 36,
     "metadata": {},
     "output_type": "execute_result"
    }
   ],
   "source": [
    "a[12]"
   ]
  },
  {
   "cell_type": "code",
   "execution_count": 38,
   "id": "386bc344-02be-45fe-b150-2a95c36147b5",
   "metadata": {},
   "outputs": [
    {
     "data": {
      "text/plain": [
       "'samos'"
      ]
     },
     "execution_count": 38,
     "metadata": {},
     "output_type": "execute_result"
    }
   ],
   "source": [
    "a[0:5]"
   ]
  },
  {
   "cell_type": "code",
   "execution_count": 42,
   "id": "c79606b3-ab7b-4c0f-aef4-263426c7c2f1",
   "metadata": {},
   "outputs": [
    {
     "data": {
      "text/plain": [
       "'samosa pakora'"
      ]
     },
     "execution_count": 42,
     "metadata": {},
     "output_type": "execute_result"
    }
   ],
   "source": [
    "# last index is exculsive\n",
    "a[0:13]"
   ]
  },
  {
   "cell_type": "code",
   "execution_count": 44,
   "id": "1fd68192-f10b-4618-b115-99f686f1b7fb",
   "metadata": {},
   "outputs": [
    {
     "data": {
      "text/plain": [
       "'r'"
      ]
     },
     "execution_count": 44,
     "metadata": {},
     "output_type": "execute_result"
    }
   ],
   "source": [
    "a[-2]"
   ]
  },
  {
   "cell_type": "code",
   "execution_count": 46,
   "id": "db7ed94d-d2a9-4795-ab78-e30b4158b53f",
   "metadata": {},
   "outputs": [
    {
     "data": {
      "text/plain": [
       "'p'"
      ]
     },
     "execution_count": 46,
     "metadata": {},
     "output_type": "execute_result"
    }
   ],
   "source": [
    "a[-6]"
   ]
  },
  {
   "cell_type": "code",
   "execution_count": 52,
   "id": "e7ec7b0a-8d81-4682-ae23-99f7a548d76e",
   "metadata": {},
   "outputs": [
    {
     "data": {
      "text/plain": [
       "'pakora'"
      ]
     },
     "execution_count": 52,
     "metadata": {},
     "output_type": "execute_result"
    }
   ],
   "source": [
    "a[-6:13]"
   ]
  },
  {
   "cell_type": "code",
   "execution_count": 65,
   "id": "dee284b1-4c58-474f-81ba-a739b6cbf89e",
   "metadata": {},
   "outputs": [
    {
     "data": {
      "text/plain": [
       "'biryani'"
      ]
     },
     "execution_count": 65,
     "metadata": {},
     "output_type": "execute_result"
    }
   ],
   "source": [
    "food = \"biryani\"\n",
    "food"
   ]
  },
  {
   "cell_type": "markdown",
   "id": "018d0162-eb1d-4852-9c2a-8ebca5e525a6",
   "metadata": {},
   "source": [
    "# string methods"
   ]
  },
  {
   "cell_type": "code",
   "execution_count": 67,
   "id": "f298ae28-394a-4ebf-81fc-687f67e09bcd",
   "metadata": {},
   "outputs": [
    {
     "data": {
      "text/plain": [
       "'biryani'"
      ]
     },
     "execution_count": 67,
     "metadata": {},
     "output_type": "execute_result"
    }
   ],
   "source": [
    "food"
   ]
  },
  {
   "cell_type": "code",
   "execution_count": 59,
   "id": "4132f31e-2aba-415f-a46c-9bc9b3d695c0",
   "metadata": {},
   "outputs": [
    {
     "data": {
      "text/plain": [
       "7"
      ]
     },
     "execution_count": 59,
     "metadata": {},
     "output_type": "execute_result"
    }
   ],
   "source": [
    "len(food)"
   ]
  },
  {
   "cell_type": "code",
   "execution_count": 71,
   "id": "9fb38a2a-be2c-4d63-931a-26d1c633d14a",
   "metadata": {},
   "outputs": [
    {
     "data": {
      "text/plain": [
       "'Biryani'"
      ]
     },
     "execution_count": 71,
     "metadata": {},
     "output_type": "execute_result"
    }
   ],
   "source": [
    "food.capitalize()"
   ]
  },
  {
   "cell_type": "code",
   "execution_count": 73,
   "id": "bbfd726b-2880-42f0-8a0a-71ba644096f0",
   "metadata": {},
   "outputs": [
    {
     "data": {
      "text/plain": [
       "'BIRYANI'"
      ]
     },
     "execution_count": 73,
     "metadata": {},
     "output_type": "execute_result"
    }
   ],
   "source": [
    "food.upper()"
   ]
  },
  {
   "cell_type": "code",
   "execution_count": 75,
   "id": "540e2c64-636b-455d-a38c-2fb256949550",
   "metadata": {},
   "outputs": [
    {
     "data": {
      "text/plain": [
       "'biryani'"
      ]
     },
     "execution_count": 75,
     "metadata": {},
     "output_type": "execute_result"
    }
   ],
   "source": [
    "food.lower()"
   ]
  },
  {
   "cell_type": "code",
   "execution_count": 79,
   "id": "6a0dd287-8d6e-4d4c-a3a0-59d48cd665a2",
   "metadata": {},
   "outputs": [
    {
     "data": {
      "text/plain": [
       "'shiryani'"
      ]
     },
     "execution_count": 79,
     "metadata": {},
     "output_type": "execute_result"
    }
   ],
   "source": [
    "food.replace(\"b\",\"sh\")"
   ]
  },
  {
   "cell_type": "code",
   "execution_count": 81,
   "id": "a053bc2a-f25e-4e69-a33e-cafc32005cdb",
   "metadata": {},
   "outputs": [
    {
     "data": {
      "text/plain": [
       "'ahmad_asjal with Dr.Ahmad bhutta'"
      ]
     },
     "execution_count": 81,
     "metadata": {},
     "output_type": "execute_result"
    }
   ],
   "source": [
    "# counting a specific alphabet in a string\n",
    "name= \"ahmad_asjal with Dr.Ahmad bhutta\"\n",
    "name"
   ]
  },
  {
   "cell_type": "code",
   "execution_count": 91,
   "id": "ebe4b825-3696-41d9-bcd0-453d54199682",
   "metadata": {},
   "outputs": [
    {
     "data": {
      "text/plain": [
       "6"
      ]
     },
     "execution_count": 91,
     "metadata": {},
     "output_type": "execute_result"
    }
   ],
   "source": [
    "name.count(\"a\")"
   ]
  },
  {
   "cell_type": "markdown",
   "id": "7a63fac6-1204-4d15-9395-15cb7305bc7a",
   "metadata": {},
   "source": [
    "### - finding an index number in string"
   ]
  },
  {
   "cell_type": "code",
   "execution_count": 95,
   "id": "2aaedd9a-1cf4-4dab-8ada-85e353c353f5",
   "metadata": {},
   "outputs": [
    {
     "data": {
      "text/plain": [
       "'ahmad_asjal with Dr.Ahmad bhutta'"
      ]
     },
     "execution_count": 95,
     "metadata": {},
     "output_type": "execute_result"
    }
   ],
   "source": [
    "name= \"ahmad_asjal with Dr.Ahmad bhutta\"\n",
    "name"
   ]
  },
  {
   "cell_type": "code",
   "execution_count": 103,
   "id": "5deb17ae-dd8f-48c6-8c5c-79f3ab1329f1",
   "metadata": {},
   "outputs": [
    {
     "data": {
      "text/plain": [
       "6"
      ]
     },
     "execution_count": 103,
     "metadata": {},
     "output_type": "execute_result"
    }
   ],
   "source": [
    "name.find(\"as\")"
   ]
  },
  {
   "cell_type": "code",
   "execution_count": 105,
   "id": "6393cd19-82bf-4841-92b4-044907e4bb14",
   "metadata": {},
   "outputs": [
    {
     "data": {
      "text/plain": [
       "'I love samosa,pakora,raita,biryani and karahi'"
      ]
     },
     "execution_count": 105,
     "metadata": {},
     "output_type": "execute_result"
    }
   ],
   "source": [
    "### how to split a string \n",
    "food = \"I love samosa,pakora,raita,biryani and karahi\"\n",
    "food"
   ]
  },
  {
   "cell_type": "code",
   "execution_count": 107,
   "id": "ddf9df04-52f9-4d29-b1a1-c2b7fe7e5d3d",
   "metadata": {},
   "outputs": [
    {
     "data": {
      "text/plain": [
       "['I love samosa', 'pakora', 'raita', 'biryani and karahi']"
      ]
     },
     "execution_count": 107,
     "metadata": {},
     "output_type": "execute_result"
    }
   ],
   "source": [
    "food.split(\",\")"
   ]
  },
  {
   "cell_type": "markdown",
   "id": "919e2e4e-115a-4326-b965-8f2dd1feeada",
   "metadata": {},
   "source": [
    "# Basic data structure in python\n",
    "### 1-Tuple\n",
    "### 2-List\n",
    "### 3-Dictionaries\n",
    "### 4-Set"
   ]
  },
  {
   "cell_type": "markdown",
   "id": "2c61e0f0-fb7f-45fc-8fb4-d8b68cdfd4a0",
   "metadata": {},
   "source": [
    "## 1- tuple\n",
    "- ordered collection of elements\n",
    "- enclosed in () round braces/ paranthesis\n",
    "- different kind of elements can be stored\n",
    "- onec elements are stored you can not change them (unmutatable)"
   ]
  },
  {
   "cell_type": "code",
   "execution_count": 20,
   "id": "9e9ddc49-8bbc-48ab-9501-f962a6c53144",
   "metadata": {},
   "outputs": [
    {
     "data": {
      "text/plain": [
       "(1, 'python', True, 2.5)"
      ]
     },
     "execution_count": 20,
     "metadata": {},
     "output_type": "execute_result"
    }
   ],
   "source": [
    "tup1 = (1,\"python\",True,2.5)\n",
    "tup1"
   ]
  },
  {
   "cell_type": "code",
   "execution_count": 22,
   "id": "5f7e1f4a-599d-48e8-afef-6f94d493b5f6",
   "metadata": {},
   "outputs": [
    {
     "data": {
      "text/plain": [
       "tuple"
      ]
     },
     "execution_count": 22,
     "metadata": {},
     "output_type": "execute_result"
    }
   ],
   "source": [
    "# type of a tuple\n",
    "type(tup1)"
   ]
  },
  {
   "cell_type": "markdown",
   "id": "9e85ea58-40d4-49e2-a6d4-2480f77cba23",
   "metadata": {},
   "source": [
    "### - indexing in tuple"
   ]
  },
  {
   "cell_type": "code",
   "execution_count": 24,
   "id": "78d81cf5-4204-46bc-9aef-2d08061a5cda",
   "metadata": {},
   "outputs": [
    {
     "data": {
      "text/plain": [
       "'python'"
      ]
     },
     "execution_count": 24,
     "metadata": {},
     "output_type": "execute_result"
    }
   ],
   "source": [
    "tup1[1]"
   ]
  },
  {
   "cell_type": "code",
   "execution_count": 26,
   "id": "17289599-b902-4e73-a462-d86eb70ac1f5",
   "metadata": {},
   "outputs": [
    {
     "data": {
      "text/plain": [
       "True"
      ]
     },
     "execution_count": 26,
     "metadata": {},
     "output_type": "execute_result"
    }
   ],
   "source": [
    "tup1[2]"
   ]
  },
  {
   "cell_type": "code",
   "execution_count": 32,
   "id": "8cf667a1-ecec-4e2e-8c7b-82cfb737ab35",
   "metadata": {},
   "outputs": [
    {
     "data": {
      "text/plain": [
       "(1, 'python', True)"
      ]
     },
     "execution_count": 32,
     "metadata": {},
     "output_type": "execute_result"
    }
   ],
   "source": [
    "#lost element is exclusive\n",
    "tup1[0:3]"
   ]
  },
  {
   "cell_type": "code",
   "execution_count": 34,
   "id": "a11f500a-c0e7-439b-96ac-1f9585462db3",
   "metadata": {},
   "outputs": [
    {
     "data": {
      "text/plain": [
       "4"
      ]
     },
     "execution_count": 34,
     "metadata": {},
     "output_type": "execute_result"
    }
   ],
   "source": [
    "#count of elements in tup1\n",
    "len(tup1)"
   ]
  },
  {
   "cell_type": "code",
   "execution_count": 36,
   "id": "b9c6eed3-614f-4f96-af09-b8081ed7c022",
   "metadata": {},
   "outputs": [
    {
     "data": {
      "text/plain": [
       "(2, 'ahmad/asjal', 4.5, False)"
      ]
     },
     "execution_count": 36,
     "metadata": {},
     "output_type": "execute_result"
    }
   ],
   "source": [
    "tup2 = (2,\"ahmad/asjal\",4.5,False)\n",
    "tup2"
   ]
  },
  {
   "cell_type": "code",
   "execution_count": 52,
   "id": "b4e12a9b-56c0-4055-927d-01019397452c",
   "metadata": {},
   "outputs": [
    {
     "data": {
      "text/plain": [
       "(1, 'python', True, 2.5, 2, 'ahmad/asjal', 4.5, False)"
      ]
     },
     "execution_count": 52,
     "metadata": {},
     "output_type": "execute_result"
    }
   ],
   "source": [
    "#concantinate (to add two tuple or more)\n",
    "tup1 + tup2"
   ]
  },
  {
   "cell_type": "code",
   "execution_count": 54,
   "id": "743cb1d0-8164-465e-ae8f-32fe8f979787",
   "metadata": {},
   "outputs": [
    {
     "data": {
      "text/plain": [
       "(1, 'python', True, 2.5, 1, 'python', True, 2.5, 2, 'ahmad/asjal', 4.5, False)"
      ]
     },
     "execution_count": 54,
     "metadata": {},
     "output_type": "execute_result"
    }
   ],
   "source": [
    "#concatinate + repeat\n",
    "tup1*2 + tup2"
   ]
  },
  {
   "cell_type": "code",
   "execution_count": 42,
   "id": "a2f3950b-a53b-46f8-9dcf-6f7d552c3e2b",
   "metadata": {},
   "outputs": [
    {
     "data": {
      "text/plain": [
       "(20, 40, 50, 80, 100, 200)"
      ]
     },
     "execution_count": 42,
     "metadata": {},
     "output_type": "execute_result"
    }
   ],
   "source": [
    "tup3 = (20,40,50,80,100,200)\n",
    "tup3"
   ]
  },
  {
   "cell_type": "code",
   "execution_count": 44,
   "id": "5fdfe748-2ce1-45d0-a999-6f10233d51d0",
   "metadata": {},
   "outputs": [
    {
     "data": {
      "text/plain": [
       "20"
      ]
     },
     "execution_count": 44,
     "metadata": {},
     "output_type": "execute_result"
    }
   ],
   "source": [
    "#minimum\n",
    "min(tup3)"
   ]
  },
  {
   "cell_type": "code",
   "execution_count": 46,
   "id": "0a9be730-71f8-40d1-bcd5-6311cde2ceae",
   "metadata": {},
   "outputs": [
    {
     "data": {
      "text/plain": [
       "200"
      ]
     },
     "execution_count": 46,
     "metadata": {},
     "output_type": "execute_result"
    }
   ],
   "source": [
    "#maximum\n",
    "max(tup3)"
   ]
  },
  {
   "cell_type": "code",
   "execution_count": 48,
   "id": "6c382200-b4bf-4c5e-9079-ec13fbf53a25",
   "metadata": {},
   "outputs": [
    {
     "data": {
      "text/plain": [
       "(20, 40, 50, 80, 100, 200, 20, 40, 50, 80, 100, 200)"
      ]
     },
     "execution_count": 48,
     "metadata": {},
     "output_type": "execute_result"
    }
   ],
   "source": [
    "tup3*2"
   ]
  },
  {
   "cell_type": "markdown",
   "id": "3be7a352-f476-4e6d-8c9f-90dce09a3913",
   "metadata": {},
   "source": [
    "---"
   ]
  },
  {
   "cell_type": "markdown",
   "id": "c425a5ce-79f4-4cfa-8114-ac2387090ec5",
   "metadata": {},
   "source": [
    "## 2- list\n",
    "- oredered collection of elements\n",
    "- enclosed in [] square braces/braket\n",
    "- Mutateable, you can change the values"
   ]
  },
  {
   "cell_type": "code",
   "execution_count": 81,
   "id": "ad1f128f-b36b-4858-9737-c389f0f89a59",
   "metadata": {},
   "outputs": [
    {
     "data": {
      "text/plain": [
       "[2, 'ahmad/asjal', False]"
      ]
     },
     "execution_count": 81,
     "metadata": {},
     "output_type": "execute_result"
    }
   ],
   "source": [
    "list1 = [2,\"ahmad/asjal\",False]\n",
    "list1"
   ]
  },
  {
   "cell_type": "code",
   "execution_count": 83,
   "id": "7aa4ed0c-04ec-46c5-b168-e1f776629f57",
   "metadata": {},
   "outputs": [
    {
     "data": {
      "text/plain": [
       "list"
      ]
     },
     "execution_count": 83,
     "metadata": {},
     "output_type": "execute_result"
    }
   ],
   "source": [
    "type(list1)"
   ]
  },
  {
   "cell_type": "code",
   "execution_count": 85,
   "id": "b7ace014-962b-430f-a89a-410652de8d13",
   "metadata": {},
   "outputs": [
    {
     "data": {
      "text/plain": [
       "3"
      ]
     },
     "execution_count": 85,
     "metadata": {},
     "output_type": "execute_result"
    }
   ],
   "source": [
    "len(list1)"
   ]
  },
  {
   "cell_type": "code",
   "execution_count": 87,
   "id": "64f11c96-2fff-429b-8efa-2d7b4cbbd16e",
   "metadata": {},
   "outputs": [
    {
     "data": {
      "text/plain": [
       "False"
      ]
     },
     "execution_count": 87,
     "metadata": {},
     "output_type": "execute_result"
    }
   ],
   "source": [
    "list1[2]"
   ]
  },
  {
   "cell_type": "code",
   "execution_count": 91,
   "id": "95c84c85-e0ca-4598-a3fa-29a9eb215de5",
   "metadata": {},
   "outputs": [
    {
     "data": {
      "text/plain": [
       "[3, 5, 'ahmad', 'bhutta', 500, 5.5, False]"
      ]
     },
     "execution_count": 91,
     "metadata": {},
     "output_type": "execute_result"
    }
   ],
   "source": [
    "list2 = [3, 5,\"ahmad\",\"bhutta\",500,5.5, False]\n",
    "list2"
   ]
  },
  {
   "cell_type": "code",
   "execution_count": 93,
   "id": "2d1bfc7e-056c-4c2b-b095-d264df3de75e",
   "metadata": {},
   "outputs": [
    {
     "data": {
      "text/plain": [
       "[2, 'ahmad/asjal', False, 3, 5, 'ahmad', 'bhutta', 500, 5.5, False]"
      ]
     },
     "execution_count": 93,
     "metadata": {},
     "output_type": "execute_result"
    }
   ],
   "source": [
    "list1 + list2"
   ]
  },
  {
   "cell_type": "code",
   "execution_count": 95,
   "id": "c605b6d6-2a42-4ff8-a4d1-99f917d663f0",
   "metadata": {},
   "outputs": [
    {
     "data": {
      "text/plain": [
       "[2, 'ahmad/asjal', False, 2, 'ahmad/asjal', False]"
      ]
     },
     "execution_count": 95,
     "metadata": {},
     "output_type": "execute_result"
    }
   ],
   "source": [
    "list1*2"
   ]
  },
  {
   "cell_type": "code",
   "execution_count": 111,
   "id": "63076f5a-a060-45c1-8b5d-a2d411f8855a",
   "metadata": {},
   "outputs": [
    {
     "data": {
      "text/plain": [
       "[2, 'ahmad/asjal', False]"
      ]
     },
     "execution_count": 111,
     "metadata": {},
     "output_type": "execute_result"
    }
   ],
   "source": [
    "list1"
   ]
  },
  {
   "cell_type": "code",
   "execution_count": 109,
   "id": "fbda27c5-5370-4f43-b0d1-df7183987ce2",
   "metadata": {},
   "outputs": [
    {
     "data": {
      "text/plain": [
       "[2, 'ahmad/asjal', False]"
      ]
     },
     "execution_count": 109,
     "metadata": {},
     "output_type": "execute_result"
    }
   ],
   "source": [
    "list1.reverse()\n",
    "list1"
   ]
  },
  {
   "cell_type": "code",
   "execution_count": 117,
   "id": "a966fe07-29c4-4d10-a73e-ef9362e95d68",
   "metadata": {},
   "outputs": [
    {
     "data": {
      "text/plain": [
       "[2,\n",
       " 'ahmad/asjal',\n",
       " False,\n",
       " 'BHUTTA G EVERTHING',\n",
       " 'BHUTTA G EVERTHING',\n",
       " 'BHUTTA G EVERTHING']"
      ]
     },
     "execution_count": 117,
     "metadata": {},
     "output_type": "execute_result"
    }
   ],
   "source": [
    "list1.append(\"BHUTTA G EVERTHING\")\n",
    "list1"
   ]
  },
  {
   "cell_type": "code",
   "execution_count": 127,
   "id": "e7a0da7b-8753-4555-abc7-03fd032c5d17",
   "metadata": {},
   "outputs": [
    {
     "data": {
      "text/plain": [
       "1"
      ]
     },
     "execution_count": 127,
     "metadata": {},
     "output_type": "execute_result"
    }
   ],
   "source": [
    "#list.count function\n",
    "list1.count(0)"
   ]
  },
  {
   "cell_type": "code",
   "execution_count": 133,
   "id": "ef16a3c0-2370-41bb-bb48-a5b2104c0fbb",
   "metadata": {},
   "outputs": [
    {
     "data": {
      "text/plain": [
       "[20, 50, 200, 500, 326, 344, 523, 456, 135, 812, 22, 33, 66, 25]"
      ]
     },
     "execution_count": 133,
     "metadata": {},
     "output_type": "execute_result"
    }
   ],
   "source": [
    "list3 = [20,50,200,500,326,344,523,456,135,812,22,33,66,25]\n",
    "list3"
   ]
  },
  {
   "cell_type": "code",
   "execution_count": 135,
   "id": "dc3df1e1-3af2-4dcf-ac83-4e182f4a9f9c",
   "metadata": {},
   "outputs": [
    {
     "data": {
      "text/plain": [
       "14"
      ]
     },
     "execution_count": 135,
     "metadata": {},
     "output_type": "execute_result"
    }
   ],
   "source": [
    "len(list3)"
   ]
  },
  {
   "cell_type": "code",
   "execution_count": 137,
   "id": "cf6170e5-44b2-49fb-9c51-774306b5bdb5",
   "metadata": {},
   "outputs": [
    {
     "data": {
      "text/plain": [
       "[20, 22, 25, 33, 50, 66, 135, 200, 326, 344, 456, 500, 523, 812]"
      ]
     },
     "execution_count": 137,
     "metadata": {},
     "output_type": "execute_result"
    }
   ],
   "source": [
    "#sorting a list\n",
    "list3.sort()\n",
    "list3"
   ]
  },
  {
   "cell_type": "code",
   "execution_count": 139,
   "id": "5b299da1-1c2b-4ffe-9ed9-d8ba9d4af01e",
   "metadata": {},
   "outputs": [
    {
     "data": {
      "text/plain": [
       "[20,\n",
       " 22,\n",
       " 25,\n",
       " 33,\n",
       " 50,\n",
       " 66,\n",
       " 135,\n",
       " 200,\n",
       " 326,\n",
       " 344,\n",
       " 456,\n",
       " 500,\n",
       " 523,\n",
       " 812,\n",
       " 20,\n",
       " 22,\n",
       " 25,\n",
       " 33,\n",
       " 50,\n",
       " 66,\n",
       " 135,\n",
       " 200,\n",
       " 326,\n",
       " 344,\n",
       " 456,\n",
       " 500,\n",
       " 523,\n",
       " 812]"
      ]
     },
     "execution_count": 139,
     "metadata": {},
     "output_type": "execute_result"
    }
   ],
   "source": [
    "list3*2"
   ]
  },
  {
   "cell_type": "code",
   "execution_count": 143,
   "id": "2e9e23a6-cff3-40a1-9a39-236035b820ab",
   "metadata": {},
   "outputs": [
    {
     "data": {
      "text/plain": [
       "[2,\n",
       " 'ahmad/asjal',\n",
       " False,\n",
       " 'BHUTTA G EVERTHING',\n",
       " 'BHUTTA G EVERTHING',\n",
       " 'BHUTTA G EVERTHING',\n",
       " 3,\n",
       " 5,\n",
       " 'ahmad',\n",
       " 'bhutta',\n",
       " 500,\n",
       " 5.5,\n",
       " False]"
      ]
     },
     "execution_count": 143,
     "metadata": {},
     "output_type": "execute_result"
    }
   ],
   "source": [
    "list1 + list2"
   ]
  },
  {
   "cell_type": "code",
   "execution_count": 145,
   "id": "40b37c25-9822-4224-8861-0c65dca01c87",
   "metadata": {},
   "outputs": [
    {
     "data": {
      "text/plain": [
       "[2,\n",
       " 'ahmad/asjal',\n",
       " False,\n",
       " 'BHUTTA G EVERTHING',\n",
       " 'BHUTTA G EVERTHING',\n",
       " 'BHUTTA G EVERTHING',\n",
       " 3,\n",
       " 5,\n",
       " 'ahmad',\n",
       " 'bhutta',\n",
       " 500,\n",
       " 5.5,\n",
       " False]"
      ]
     },
     "execution_count": 145,
     "metadata": {},
     "output_type": "execute_result"
    }
   ],
   "source": [
    "lists = list1 +list2\n",
    "lists"
   ]
  },
  {
   "cell_type": "markdown",
   "id": "1cb8eb88-17a0-4738-951a-70ac5663a5be",
   "metadata": {},
   "source": [
    "## 3-Dicitionaries\n",
    "- An unordered collection of elements\n",
    "- key and value\n",
    "- curly braces or brackets {}\n",
    "- Mutateable/ change the values"
   ]
  },
  {
   "cell_type": "code",
   "execution_count": 150,
   "id": "dc9e698d-5fe0-4f2d-a3a1-5abfd270b760",
   "metadata": {},
   "outputs": [
    {
     "data": {
      "text/plain": [
       "{'samosa': 25, 'Pakora': 100, 'Raita': 20, 'salad': 50, 'Chicke Rolls': 150}"
      ]
     },
     "execution_count": 150,
     "metadata": {},
     "output_type": "execute_result"
    }
   ],
   "source": [
    "# Food and their prices\n",
    "food1 = {\"samosa\":25,\"Pakora\":100, \"Raita\": 20, \"salad\":50,\"Chicke Rolls\":150}\n",
    "food1"
   ]
  },
  {
   "cell_type": "code",
   "execution_count": 154,
   "id": "69f47f98-381e-4ac5-9d3e-c02ce66bb1f3",
   "metadata": {},
   "outputs": [
    {
     "data": {
      "text/plain": [
       "dict"
      ]
     },
     "execution_count": 154,
     "metadata": {},
     "output_type": "execute_result"
    }
   ],
   "source": [
    "type(food1)"
   ]
  },
  {
   "cell_type": "code",
   "execution_count": 158,
   "id": "b06dd0c5-25fc-42d2-b089-7aa3e4b773ca",
   "metadata": {},
   "outputs": [
    {
     "data": {
      "text/plain": [
       "dict_keys(['samosa', 'Pakora', 'Raita', 'salad', 'Chicke Rolls'])"
      ]
     },
     "execution_count": 158,
     "metadata": {},
     "output_type": "execute_result"
    }
   ],
   "source": [
    "# extract data \n",
    "keys1 = food1.keys()\n",
    "keys1"
   ]
  },
  {
   "cell_type": "code",
   "execution_count": 166,
   "id": "5b17dce5-120a-4015-80db-aea8d61bfe1e",
   "metadata": {},
   "outputs": [
    {
     "data": {
      "text/plain": [
       "dict_values([25, 100, 20, 50, 150])"
      ]
     },
     "execution_count": 166,
     "metadata": {},
     "output_type": "execute_result"
    }
   ],
   "source": [
    "values1 = food1.values()\n",
    "values1"
   ]
  },
  {
   "cell_type": "code",
   "execution_count": 170,
   "id": "81fb5e39-5fe0-48f6-a284-4e8d00448bc8",
   "metadata": {},
   "outputs": [
    {
     "data": {
      "text/plain": [
       "{'samosa': 25,\n",
       " 'Pakora': 100,\n",
       " 'Raita': 20,\n",
       " 'salad': 50,\n",
       " 'Chicke Rolls': 150,\n",
       " 'Tikki': 50}"
      ]
     },
     "execution_count": 170,
     "metadata": {},
     "output_type": "execute_result"
    }
   ],
   "source": [
    "#Adding new element\n",
    "food1[\"Tikki\"]=50\n",
    "food1"
   ]
  },
  {
   "cell_type": "code",
   "execution_count": 172,
   "id": "830d204f-37f8-46e0-a561-e56a02e9f16b",
   "metadata": {},
   "outputs": [
    {
     "data": {
      "text/plain": [
       "{'samosa': 25,\n",
       " 'Pakora': 100,\n",
       " 'Raita': 20,\n",
       " 'salad': 50,\n",
       " 'Chicke Rolls': 150,\n",
       " 'Tikki': 100}"
      ]
     },
     "execution_count": 172,
     "metadata": {},
     "output_type": "execute_result"
    }
   ],
   "source": [
    "# Updata the values\n",
    "food1[\"Tikki\"]=100\n",
    "food1"
   ]
  },
  {
   "cell_type": "code",
   "execution_count": 189,
   "id": "55e5f0f5-e219-41b5-912d-d9ddd7ad4316",
   "metadata": {},
   "outputs": [
    {
     "data": {
      "text/plain": [
       "{'Dates': 100, 'Choclates': 100, 'Swayyan': 500}"
      ]
     },
     "execution_count": 189,
     "metadata": {},
     "output_type": "execute_result"
    }
   ],
   "source": [
    "food2 = {\"Dates\":100,\"Choclates\":100,\"Swayyan\":500}\n",
    "food2"
   ]
  },
  {
   "cell_type": "code",
   "execution_count": 193,
   "id": "6a867e08-1ba5-431b-b0e7-096dc6253da0",
   "metadata": {},
   "outputs": [],
   "source": [
    "# concatinate\n",
    "food1.update(food2) "
   ]
  },
  {
   "cell_type": "code",
   "execution_count": 195,
   "id": "6da91a5b-24a6-4352-b874-521035395d85",
   "metadata": {},
   "outputs": [
    {
     "data": {
      "text/plain": [
       "{'samosa': 25,\n",
       " 'Pakora': 100,\n",
       " 'Raita': 20,\n",
       " 'salad': 50,\n",
       " 'Chicke Rolls': 150,\n",
       " 'Tikki': 100,\n",
       " 'Dates': 100,\n",
       " 'Choclates': 100,\n",
       " 'Swayyan': 500}"
      ]
     },
     "execution_count": 195,
     "metadata": {},
     "output_type": "execute_result"
    }
   ],
   "source": [
    "food1"
   ]
  },
  {
   "cell_type": "markdown",
   "id": "7c12cce6-0404-4104-a965-dc4892530707",
   "metadata": {},
   "source": [
    "## 4-Set\n",
    "- unordered and unindexed\n",
    "- curly braces are uesd {}\n",
    "- No duplicates are allowed"
   ]
  },
  {
   "cell_type": "code",
   "execution_count": 202,
   "id": "bbf598bd-127c-4afb-99b7-68b7d3daf017",
   "metadata": {},
   "outputs": [
    {
     "data": {
      "text/plain": [
       "{1, 2.5, 5.5, 'ahmad', 'bhutta', 'lodhran'}"
      ]
     },
     "execution_count": 202,
     "metadata": {},
     "output_type": "execute_result"
    }
   ],
   "source": [
    "s1 = {1,2.5,5.5,\"ahmad\",\"bhutta\", \"lodhran\"}\n",
    "s1"
   ]
  },
  {
   "cell_type": "code",
   "execution_count": 212,
   "id": "2d81fa4c-4866-4375-aee6-9e51249c7bbc",
   "metadata": {},
   "outputs": [],
   "source": [
    "s1.add(\"ahmad1\")"
   ]
  },
  {
   "cell_type": "code",
   "execution_count": 214,
   "id": "a925a3a1-1247-4f50-940a-aa394ec55e3c",
   "metadata": {},
   "outputs": [
    {
     "data": {
      "text/plain": [
       "{1, 2.5, 5.5, 'ahmad', 'ahmad1', 'asjal', 'bhutta', 'lodhran'}"
      ]
     },
     "execution_count": 214,
     "metadata": {},
     "output_type": "execute_result"
    }
   ],
   "source": [
    "s1"
   ]
  },
  {
   "cell_type": "code",
   "execution_count": 216,
   "id": "9e16c942-8c3d-4ecd-8847-e87254d7f316",
   "metadata": {},
   "outputs": [],
   "source": [
    "s1.remove(\"ahmad1\")"
   ]
  },
  {
   "cell_type": "code",
   "execution_count": 218,
   "id": "e8ca1434-4809-46b8-a7b1-cc4c4eef0406",
   "metadata": {},
   "outputs": [
    {
     "data": {
      "text/plain": [
       "{1, 2.5, 5.5, 'ahmad', 'asjal', 'bhutta', 'lodhran'}"
      ]
     },
     "execution_count": 218,
     "metadata": {},
     "output_type": "execute_result"
    }
   ],
   "source": [
    "s1"
   ]
  },
  {
   "cell_type": "code",
   "execution_count": null,
   "id": "5e23126b-8e36-4141-9d64-7d5220f45fc8",
   "metadata": {},
   "outputs": [],
   "source": [
    "s1.copy()"
   ]
  }
 ],
 "metadata": {
  "kernelspec": {
   "display_name": "Python 3 (ipykernel)",
   "language": "python",
   "name": "python3"
  },
  "language_info": {
   "codemirror_mode": {
    "name": "ipython",
    "version": 3
   },
   "file_extension": ".py",
   "mimetype": "text/x-python",
   "name": "python",
   "nbconvert_exporter": "python",
   "pygments_lexer": "ipython3",
   "version": "3.12.4"
  }
 },
 "nbformat": 4,
 "nbformat_minor": 5
}
