{
 "cells": [
  {
   "cell_type": "code",
   "execution_count": 19,
   "id": "ab8df452-5350-4a91-af90-f8dc2b4e2633",
   "metadata": {},
   "outputs": [
    {
     "data": {
      "text/plain": [
       "array([1, 2, 3, 4, 5])"
      ]
     },
     "execution_count": 19,
     "metadata": {},
     "output_type": "execute_result"
    }
   ],
   "source": [
    "import numpy as np\n",
    "a = np.array([1,2,3,4,5])\n",
    "a"
   ]
  },
  {
   "cell_type": "code",
   "execution_count": 21,
   "id": "595e7e09-a746-45ee-a616-9a3cc897848a",
   "metadata": {},
   "outputs": [
    {
     "data": {
      "text/plain": [
       "array([0., 0.])"
      ]
     },
     "execution_count": 21,
     "metadata": {},
     "output_type": "execute_result"
    }
   ],
   "source": [
    "b = np.zeros(2)\n",
    "b"
   ]
  },
  {
   "cell_type": "code",
   "execution_count": 23,
   "id": "0e3cd8e6-320e-40f9-b8ab-d68fd3657c6d",
   "metadata": {},
   "outputs": [
    {
     "data": {
      "text/plain": [
       "array([1., 1., 1.])"
      ]
     },
     "execution_count": 23,
     "metadata": {},
     "output_type": "execute_result"
    }
   ],
   "source": [
    "c = np.ones(3)\n",
    "c"
   ]
  },
  {
   "cell_type": "code",
   "execution_count": 25,
   "id": "f2e8c32d-d38e-4805-af0a-af4962317fb9",
   "metadata": {},
   "outputs": [
    {
     "data": {
      "text/plain": [
       "array([1., 1., 1.])"
      ]
     },
     "execution_count": 25,
     "metadata": {},
     "output_type": "execute_result"
    }
   ],
   "source": [
    "# Create an empty array with 2 elements\n",
    "d = np.empty(3)\n",
    "d"
   ]
  },
  {
   "cell_type": "markdown",
   "id": "5423680a-3200-4956-84b4-6c0ff83d9d80",
   "metadata": {},
   "source": [
    "# How to create an array ?"
   ]
  },
  {
   "cell_type": "code",
   "execution_count": 28,
   "id": "6ad11f26-27c3-40e9-b4aa-ace775f236e6",
   "metadata": {},
   "outputs": [
    {
     "data": {
      "text/plain": [
       "array([0, 1, 2, 3, 4, 5])"
      ]
     },
     "execution_count": 28,
     "metadata": {},
     "output_type": "execute_result"
    }
   ],
   "source": [
    "# with range of elements \n",
    "e = np.arange(6)\n",
    "e"
   ]
  },
  {
   "cell_type": "code",
   "execution_count": 30,
   "id": "3ebaa420-3067-4ed7-80e0-a16d498c6d67",
   "metadata": {},
   "outputs": [
    {
     "data": {
      "text/plain": [
       "array([ 2,  3,  4,  5,  6,  7,  8,  9, 10, 11, 12, 13, 14, 15, 16, 17, 18,\n",
       "       19])"
      ]
     },
     "execution_count": 30,
     "metadata": {},
     "output_type": "execute_result"
    }
   ],
   "source": [
    "# with specific range of elements\n",
    "f = np.arange(2,20)\n",
    "f"
   ]
  },
  {
   "cell_type": "code",
   "execution_count": 32,
   "id": "60dd2bdc-5d06-4eab-b2db-c3a24a972651",
   "metadata": {},
   "outputs": [
    {
     "data": {
      "text/plain": [
       "array([ 2,  4,  6,  8, 10, 12, 14, 16, 18])"
      ]
     },
     "execution_count": 32,
     "metadata": {},
     "output_type": "execute_result"
    }
   ],
   "source": [
    "# continue...\n",
    "g = np.arange(2,20,2)\n",
    "g"
   ]
  },
  {
   "cell_type": "code",
   "execution_count": 34,
   "id": "d1423d01-f7b7-4a26-8c05-da94e2056b2a",
   "metadata": {},
   "outputs": [
    {
     "data": {
      "text/plain": [
       "array([ 0. ,  2.5,  5. ,  7.5, 10. ])"
      ]
     },
     "execution_count": 34,
     "metadata": {},
     "output_type": "execute_result"
    }
   ],
   "source": [
    "# linerly spaced arrays\n",
    "h = np.linspace(0,10,num=5) # gives use 5 nums\n",
    "h"
   ]
  },
  {
   "cell_type": "code",
   "execution_count": 36,
   "id": "a7a5a9b0-676a-40ef-bd57-d3d51144f8a0",
   "metadata": {},
   "outputs": [
    {
     "data": {
      "text/plain": [
       "array([1, 1, 1, 1, 1], dtype=int8)"
      ]
     },
     "execution_count": 36,
     "metadata": {},
     "output_type": "execute_result"
    }
   ],
   "source": [
    "# spceific data types in array \n",
    "i = np.ones(5,dtype=np.int8)\n",
    "i"
   ]
  },
  {
   "cell_type": "code",
   "execution_count": 38,
   "id": "fa89243c-22c3-425e-b3ee-5a5a1ffba979",
   "metadata": {},
   "outputs": [
    {
     "data": {
      "text/plain": [
       "array([1., 1., 1.])"
      ]
     },
     "execution_count": 38,
     "metadata": {},
     "output_type": "execute_result"
    }
   ],
   "source": [
    "j = np.ones(3,dtype=np.float64)\n",
    "j"
   ]
  },
  {
   "cell_type": "markdown",
   "id": "ffef251f-c97f-4ece-98cd-d86649ae9385",
   "metadata": {},
   "source": [
    "# How to create an array ? \n",
    "##  2-D arrays"
   ]
  },
  {
   "cell_type": "code",
   "execution_count": 48,
   "id": "67604c34-e3a6-49b5-b844-199e239b6c4c",
   "metadata": {},
   "outputs": [
    {
     "data": {
      "text/plain": [
       "array([[0., 0., 0., 0.],\n",
       "       [0., 0., 0., 0.],\n",
       "       [0., 0., 0., 0.]])"
      ]
     },
     "execution_count": 48,
     "metadata": {},
     "output_type": "execute_result"
    }
   ],
   "source": [
    "np.zeros( (3,4) )"
   ]
  },
  {
   "cell_type": "code",
   "execution_count": 50,
   "id": "d0b34964-cc8d-468d-986c-0f900e1dece7",
   "metadata": {},
   "outputs": [
    {
     "data": {
      "text/plain": [
       "array([[1., 1., 1., 1., 1., 1.],\n",
       "       [1., 1., 1., 1., 1., 1.],\n",
       "       [1., 1., 1., 1., 1., 1.],\n",
       "       [1., 1., 1., 1., 1., 1.],\n",
       "       [1., 1., 1., 1., 1., 1.]])"
      ]
     },
     "execution_count": 50,
     "metadata": {},
     "output_type": "execute_result"
    }
   ],
   "source": [
    "np.ones( (5,6) )"
   ]
  },
  {
   "cell_type": "code",
   "execution_count": 52,
   "id": "84d87ac6-dfe3-49d9-9f36-3162caa641c6",
   "metadata": {},
   "outputs": [
    {
     "data": {
      "text/plain": [
       "array([[0., 0., 0., 0.],\n",
       "       [0., 0., 0., 0.],\n",
       "       [0., 0., 0., 0.]])"
      ]
     },
     "execution_count": 52,
     "metadata": {},
     "output_type": "execute_result"
    }
   ],
   "source": [
    "np.empty( (3,4) )"
   ]
  },
  {
   "cell_type": "markdown",
   "id": "37d9fd9b-0348-4246-a04c-7e7bb0fe53b4",
   "metadata": {},
   "source": [
    "# How to create an array ?\n",
    "## 3-D array"
   ]
  },
  {
   "cell_type": "code",
   "execution_count": 57,
   "id": "1a2229ba-be61-4479-bebf-fd66b3d47379",
   "metadata": {},
   "outputs": [
    {
     "data": {
      "text/plain": [
       "array([[[ 0,  1,  2,  3],\n",
       "        [ 4,  5,  6,  7],\n",
       "        [ 8,  9, 10, 11]],\n",
       "\n",
       "       [[12, 13, 14, 15],\n",
       "        [16, 17, 18, 19],\n",
       "        [20, 21, 22, 23]]])"
      ]
     },
     "execution_count": 57,
     "metadata": {},
     "output_type": "execute_result"
    }
   ],
   "source": [
    "# making and reshpaing a 3D array \n",
    "c = np.arange(24).reshape(2,3,4)\n",
    "c"
   ]
  },
  {
   "cell_type": "code",
   "execution_count": null,
   "id": "6c0b4c8e-eebd-4d24-9a98-935030ca8521",
   "metadata": {},
   "outputs": [],
   "source": []
  }
 ],
 "metadata": {
  "kernelspec": {
   "display_name": "Python 3 (ipykernel)",
   "language": "python",
   "name": "python3"
  },
  "language_info": {
   "codemirror_mode": {
    "name": "ipython",
    "version": 3
   },
   "file_extension": ".py",
   "mimetype": "text/x-python",
   "name": "python",
   "nbconvert_exporter": "python",
   "pygments_lexer": "ipython3",
   "version": "3.12.4"
  }
 },
 "nbformat": 4,
 "nbformat_minor": 5
}
