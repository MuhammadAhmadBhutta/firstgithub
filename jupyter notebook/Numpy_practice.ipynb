{
 "cells": [
  {
   "cell_type": "markdown",
   "id": "97e65190-39ac-41be-8045-3cb86c98bc8f",
   "metadata": {},
   "source": [
    "# numpy pratice session"
   ]
  },
  {
   "cell_type": "code",
   "execution_count": 3,
   "id": "3a55b80c-98de-4673-b1e0-ba4e9cc1795b",
   "metadata": {
    "jp-MarkdownHeadingCollapsed": true
   },
   "outputs": [],
   "source": [
    "import numpy as np"
   ]
  },
  {
   "cell_type": "markdown",
   "id": "ddd38dbd-8119-473d-87e1-9b60fc541fc3",
   "metadata": {},
   "source": [
    "# creating an array using numpy\n"
   ]
  },
  {
   "cell_type": "code",
   "execution_count": 5,
   "id": "407cc381-2f15-4a93-81f0-9aa73c34721c",
   "metadata": {},
   "outputs": [
    {
     "data": {
      "text/plain": [
       "array(['Pakora', 'Samosa', 'Raita'], dtype='<U6')"
      ]
     },
     "execution_count": 5,
     "metadata": {},
     "output_type": "execute_result"
    }
   ],
   "source": [
    "# 1-D array\n",
    "food = np.array([\"Pakora\",\"Samosa\",\"Raita\"])\n",
    "food"
   ]
  },
  {
   "cell_type": "code",
   "execution_count": 7,
   "id": "4818068e-b42a-4446-b215-1407cc8f218a",
   "metadata": {},
   "outputs": [
    {
     "data": {
      "text/plain": [
       "array([5, 5, 5])"
      ]
     },
     "execution_count": 7,
     "metadata": {},
     "output_type": "execute_result"
    }
   ],
   "source": [
    "price = np.array([5,5,5])\n",
    "price"
   ]
  },
  {
   "cell_type": "code",
   "execution_count": 9,
   "id": "f67d915a-b807-47a4-ba09-fa08501d7b83",
   "metadata": {},
   "outputs": [
    {
     "data": {
      "text/plain": [
       "numpy.ndarray"
      ]
     },
     "execution_count": 9,
     "metadata": {},
     "output_type": "execute_result"
    }
   ],
   "source": [
    "type(price)"
   ]
  },
  {
   "cell_type": "code",
   "execution_count": 11,
   "id": "cabac7ca-c35f-46af-854f-7a61235e6559",
   "metadata": {},
   "outputs": [
    {
     "data": {
      "text/plain": [
       "numpy.ndarray"
      ]
     },
     "execution_count": 11,
     "metadata": {},
     "output_type": "execute_result"
    }
   ],
   "source": [
    "type(food)\n"
   ]
  },
  {
   "cell_type": "code",
   "execution_count": 13,
   "id": "eafa23be-5a79-4535-8d9d-a41a52e907b6",
   "metadata": {},
   "outputs": [
    {
     "data": {
      "text/plain": [
       "3"
      ]
     },
     "execution_count": 13,
     "metadata": {},
     "output_type": "execute_result"
    }
   ],
   "source": [
    "len(food)"
   ]
  },
  {
   "cell_type": "code",
   "execution_count": 15,
   "id": "1762648b-094c-42af-a824-11d35601a4f6",
   "metadata": {},
   "outputs": [
    {
     "data": {
      "text/plain": [
       "array([5, 5, 5])"
      ]
     },
     "execution_count": 15,
     "metadata": {},
     "output_type": "execute_result"
    }
   ],
   "source": [
    "price[0:]"
   ]
  },
  {
   "cell_type": "code",
   "execution_count": 19,
   "id": "8dd0d251-e011-43f7-8dd9-68a4568fa9fa",
   "metadata": {},
   "outputs": [
    {
     "data": {
      "text/plain": [
       "'Raita'"
      ]
     },
     "execution_count": 19,
     "metadata": {},
     "output_type": "execute_result"
    }
   ],
   "source": [
    "food[2]"
   ]
  },
  {
   "cell_type": "code",
   "execution_count": 21,
   "id": "6b89961e-df86-4a9d-b345-57de6562cb33",
   "metadata": {},
   "outputs": [
    {
     "data": {
      "text/plain": [
       "5.0"
      ]
     },
     "execution_count": 21,
     "metadata": {},
     "output_type": "execute_result"
    }
   ],
   "source": [
    "price.mean()"
   ]
  },
  {
   "cell_type": "code",
   "execution_count": 23,
   "id": "053ae642-7195-4c7e-89ae-fb1321010bae",
   "metadata": {},
   "outputs": [
    {
     "data": {
      "text/plain": [
       "array([0., 0., 0., 0., 0., 0.])"
      ]
     },
     "execution_count": 23,
     "metadata": {},
     "output_type": "execute_result"
    }
   ],
   "source": [
    "# zeros \n",
    "np.zeros(6)"
   ]
  },
  {
   "cell_type": "code",
   "execution_count": 25,
   "id": "726b1ebb-4994-4bbe-b487-b0654f983ea6",
   "metadata": {},
   "outputs": [
    {
     "data": {
      "text/plain": [
       "array([1., 1., 1., 1., 1.])"
      ]
     },
     "execution_count": 25,
     "metadata": {},
     "output_type": "execute_result"
    }
   ],
   "source": [
    "# ones\n",
    "np.ones(5)"
   ]
  },
  {
   "cell_type": "code",
   "execution_count": 27,
   "id": "2dba3b8a-9221-43f9-9b2e-f5292842cc89",
   "metadata": {},
   "outputs": [
    {
     "data": {
      "text/plain": [
       "array([1., 1., 1., 1., 1.])"
      ]
     },
     "execution_count": 27,
     "metadata": {},
     "output_type": "execute_result"
    }
   ],
   "source": [
    "# empty \n",
    "np.empty(5)"
   ]
  },
  {
   "cell_type": "code",
   "execution_count": 29,
   "id": "daad756f-bb96-4532-b711-ba1f4c632052",
   "metadata": {},
   "outputs": [
    {
     "data": {
      "text/plain": [
       "array([0, 1, 2, 3, 4, 5, 6, 7, 8, 9])"
      ]
     },
     "execution_count": 29,
     "metadata": {},
     "output_type": "execute_result"
    }
   ],
   "source": [
    "# arange\n",
    "np.arange(10)"
   ]
  },
  {
   "cell_type": "code",
   "execution_count": 31,
   "id": "fcb75979-7c9e-4f2f-a418-28848e7728ab",
   "metadata": {},
   "outputs": [
    {
     "data": {
      "text/plain": [
       "array([ 2,  3,  4,  5,  6,  7,  8,  9, 10, 11, 12, 13, 14, 15, 16, 17, 18,\n",
       "       19])"
      ]
     },
     "execution_count": 31,
     "metadata": {},
     "output_type": "execute_result"
    }
   ],
   "source": [
    "# specify \n",
    "np.arange(2,20)"
   ]
  },
  {
   "cell_type": "code",
   "execution_count": 33,
   "id": "b68eebc0-25de-4e2b-9258-0b48922fe4b2",
   "metadata": {},
   "outputs": [
    {
     "data": {
      "text/plain": [
       "array([ 2,  4,  6,  8, 10, 12, 14, 16, 18])"
      ]
     },
     "execution_count": 33,
     "metadata": {},
     "output_type": "execute_result"
    }
   ],
   "source": [
    "# specify interval\n",
    "np.arange(2,20,2)"
   ]
  },
  {
   "cell_type": "code",
   "execution_count": 37,
   "id": "fc715ee5-323b-43cc-8a32-908f5c5aa67e",
   "metadata": {},
   "outputs": [
    {
     "data": {
      "text/plain": [
       "array([ 5, 10, 15, 20, 25, 30, 35, 40, 45, 50])"
      ]
     },
     "execution_count": 37,
     "metadata": {},
     "output_type": "execute_result"
    }
   ],
   "source": [
    "# table of 5\n",
    "np.arange(5,55,5)\n"
   ]
  },
  {
   "cell_type": "code",
   "execution_count": 39,
   "id": "e5226ddc-c9c7-41a9-99c8-58a516686caf",
   "metadata": {},
   "outputs": [
    {
     "data": {
      "text/plain": [
       "array([  1.,  12.,  23.,  34.,  45.,  56.,  67.,  78.,  89., 100.])"
      ]
     },
     "execution_count": 39,
     "metadata": {},
     "output_type": "execute_result"
    }
   ],
   "source": [
    "# line space \n",
    "np.linspace(1,100, num=10)"
   ]
  },
  {
   "cell_type": "code",
   "execution_count": 45,
   "id": "316cb713-b2c5-40a7-929f-afa5126f1f4f",
   "metadata": {},
   "outputs": [
    {
     "data": {
      "text/plain": [
       "array([1, 1, 1, 1, 1, 1, 1, 1, 1, 1, 1, 1, 1, 1, 1, 1, 1, 1, 1, 1, 1, 1,\n",
       "       1, 1, 1, 1, 1, 1, 1, 1, 1, 1, 1, 1, 1, 1, 1, 1, 1, 1, 1, 1, 1, 1,\n",
       "       1, 1, 1, 1, 1, 1], dtype=int64)"
      ]
     },
     "execution_count": 45,
     "metadata": {},
     "output_type": "execute_result"
    }
   ],
   "source": [
    "# specify your data type\n",
    "np.ones(50, dtype =np.int64)\n"
   ]
  },
  {
   "cell_type": "code",
   "execution_count": 47,
   "id": "35b18ba5-2aab-4806-8284-53915b0daa36",
   "metadata": {},
   "outputs": [
    {
     "data": {
      "text/plain": [
       "array([1., 1., 1., 1., 1., 1., 1., 1., 1., 1., 1., 1., 1., 1., 1., 1., 1.,\n",
       "       1., 1., 1., 1., 1., 1., 1., 1., 1., 1., 1., 1., 1., 1., 1., 1., 1.,\n",
       "       1., 1., 1., 1., 1., 1., 1., 1., 1., 1., 1., 1., 1., 1., 1., 1.])"
      ]
     },
     "execution_count": 47,
     "metadata": {},
     "output_type": "execute_result"
    }
   ],
   "source": [
    "np.ones(50, dtype =np.float64)"
   ]
  },
  {
   "cell_type": "markdown",
   "id": "13a2f680-38de-4bac-85a0-832b9ce5c4d5",
   "metadata": {},
   "source": [
    "# Array functions"
   ]
  },
  {
   "cell_type": "code",
   "execution_count": 50,
   "id": "b8992e2f-470d-4d4a-ab11-50f31fb92d74",
   "metadata": {},
   "outputs": [
    {
     "data": {
      "text/plain": [
       "array([ 10. ,  12. ,  15. ,   2. ,   4. ,   6. , 100. , 320. ,   0.5,\n",
       "        10.3])"
      ]
     },
     "execution_count": 50,
     "metadata": {},
     "output_type": "execute_result"
    }
   ],
   "source": [
    "a = np.array([10,12,15,2,4,6,100,320,0.5,10.3])\n",
    "a"
   ]
  },
  {
   "cell_type": "code",
   "execution_count": 54,
   "id": "0da056e6-aaee-4f83-a3ce-4bdffb6f29a3",
   "metadata": {},
   "outputs": [
    {
     "data": {
      "text/plain": [
       "array([  0.5,   2. ,   4. ,   6. ,  10. ,  10.3,  12. ,  15. , 100. ,\n",
       "       320. ])"
      ]
     },
     "execution_count": 54,
     "metadata": {},
     "output_type": "execute_result"
    }
   ],
   "source": [
    "a.sort()\n",
    "a"
   ]
  },
  {
   "cell_type": "code",
   "execution_count": 56,
   "id": "7ecc2d70-bb61-42a4-9886-42ef063e32cc",
   "metadata": {},
   "outputs": [
    {
     "data": {
      "text/plain": [
       "array([12.4, 39.3, 45.2, 22.3, 44.3])"
      ]
     },
     "execution_count": 56,
     "metadata": {},
     "output_type": "execute_result"
    }
   ],
   "source": [
    "b = np.array([12.4,39.3,45.2,22.3,44.3])\n",
    "b"
   ]
  },
  {
   "cell_type": "code",
   "execution_count": 58,
   "id": "2c759981-23f2-451a-b56d-92677788a5d3",
   "metadata": {},
   "outputs": [
    {
     "data": {
      "text/plain": [
       "array([  0.5,   2. ,   4. ,   6. ,  10. ,  10.3,  12. ,  15. , 100. ,\n",
       "       320. ,  12.4,  39.3,  45.2,  22.3,  44.3])"
      ]
     },
     "execution_count": 58,
     "metadata": {},
     "output_type": "execute_result"
    }
   ],
   "source": [
    "c = np.concatenate((a,b))\n",
    "c"
   ]
  },
  {
   "cell_type": "code",
   "execution_count": 60,
   "id": "d73ac75f-be40-4cb7-898f-cb8e6760a154",
   "metadata": {},
   "outputs": [
    {
     "data": {
      "text/plain": [
       "array([  0.5,   2. ,   4. ,   6. ,  10. ,  10.3,  12. ,  12.4,  15. ,\n",
       "        22.3,  39.3,  44.3,  45.2, 100. , 320. ])"
      ]
     },
     "execution_count": 60,
     "metadata": {},
     "output_type": "execute_result"
    }
   ],
   "source": [
    "c.sort()\n",
    "c"
   ]
  },
  {
   "cell_type": "markdown",
   "id": "3ae69986-6341-4568-a9b7-584339eed766",
   "metadata": {},
   "source": [
    "# 2-D arrays"
   ]
  },
  {
   "cell_type": "code",
   "execution_count": 73,
   "id": "96444b9b-e6c9-4591-896d-7974ef7d7596",
   "metadata": {},
   "outputs": [
    {
     "data": {
      "text/plain": [
       "array([[1, 2],\n",
       "       [5, 4]])"
      ]
     },
     "execution_count": 73,
     "metadata": {},
     "output_type": "execute_result"
    }
   ],
   "source": [
    "a = np.array([[1,2], [5,4]])\n",
    "a"
   ]
  },
  {
   "cell_type": "code",
   "execution_count": 69,
   "id": "fbf8982d-5332-42c1-b4b6-bb1d11cd71c8",
   "metadata": {},
   "outputs": [
    {
     "data": {
      "text/plain": [
       "array([[6, 7],\n",
       "       [7, 8]])"
      ]
     },
     "execution_count": 69,
     "metadata": {},
     "output_type": "execute_result"
    }
   ],
   "source": [
    "b = np.array([[6,7],[7,8]])\n",
    "b"
   ]
  },
  {
   "cell_type": "code",
   "execution_count": 77,
   "id": "bbc449f3-1d61-418d-b2a3-af6b433c8d2e",
   "metadata": {},
   "outputs": [
    {
     "data": {
      "text/plain": [
       "array([[1, 2],\n",
       "       [5, 4],\n",
       "       [6, 7],\n",
       "       [7, 8]])"
      ]
     },
     "execution_count": 77,
     "metadata": {},
     "output_type": "execute_result"
    }
   ],
   "source": [
    "c = np.concatenate((a,b), axis=0)\n",
    "c"
   ]
  },
  {
   "cell_type": "code",
   "execution_count": 79,
   "id": "c208025a-820b-4dff-8fe2-898480da551f",
   "metadata": {},
   "outputs": [
    {
     "data": {
      "text/plain": [
       "array([[1, 2, 6, 7],\n",
       "       [5, 4, 7, 8]])"
      ]
     },
     "execution_count": 79,
     "metadata": {},
     "output_type": "execute_result"
    }
   ],
   "source": [
    "np.concatenate((a,b), axis=1)"
   ]
  },
  {
   "cell_type": "code",
   "execution_count": 81,
   "id": "a1b86624-cbab-4fa7-ba49-3bb5ae99aaf7",
   "metadata": {},
   "outputs": [
    {
     "data": {
      "text/plain": [
       "2"
      ]
     },
     "execution_count": 81,
     "metadata": {},
     "output_type": "execute_result"
    }
   ],
   "source": [
    "#to din the number of dimenstions\n",
    "a.ndim"
   ]
  },
  {
   "cell_type": "code",
   "execution_count": 91,
   "id": "1802a27d-4f8b-4614-929c-e35213eb94b5",
   "metadata": {},
   "outputs": [
    {
     "data": {
      "text/plain": [
       "numpy.ndarray"
      ]
     },
     "execution_count": 91,
     "metadata": {},
     "output_type": "execute_result"
    }
   ],
   "source": [
    "type(a)"
   ]
  },
  {
   "cell_type": "code",
   "execution_count": 87,
   "id": "2372dee7-67e5-4ee2-9275-989f14ee044d",
   "metadata": {},
   "outputs": [
    {
     "data": {
      "text/plain": [
       "array([[ 5,  6,  7],\n",
       "       [ 8,  9, 10],\n",
       "       [10, 11, 12]])"
      ]
     },
     "execution_count": 87,
     "metadata": {},
     "output_type": "execute_result"
    }
   ],
   "source": [
    "b =np.array([[5,6,7],\n",
    "           [8,9,10],\n",
    "           [10,11,12]])\n",
    "b"
   ]
  },
  {
   "cell_type": "code",
   "execution_count": 89,
   "id": "5b268381-682d-4eed-8ea1-9b1dcef9f8c7",
   "metadata": {},
   "outputs": [
    {
     "data": {
      "text/plain": [
       "2"
      ]
     },
     "execution_count": 89,
     "metadata": {},
     "output_type": "execute_result"
    }
   ],
   "source": [
    "b.ndim"
   ]
  },
  {
   "cell_type": "code",
   "execution_count": 95,
   "id": "0ba29c39-225c-4842-a2fe-af265d38342e",
   "metadata": {},
   "outputs": [
    {
     "data": {
      "text/plain": [
       "4"
      ]
     },
     "execution_count": 95,
     "metadata": {},
     "output_type": "execute_result"
    }
   ],
   "source": [
    "# size(number of elements)\n",
    "a.size"
   ]
  },
  {
   "cell_type": "code",
   "execution_count": 97,
   "id": "df7c9f9d-3bae-45ac-8639-8f1b166c3886",
   "metadata": {},
   "outputs": [
    {
     "data": {
      "text/plain": [
       "(2, 2)"
      ]
     },
     "execution_count": 97,
     "metadata": {},
     "output_type": "execute_result"
    }
   ],
   "source": [
    "# shape \n",
    "a.shape"
   ]
  },
  {
   "cell_type": "code",
   "execution_count": 103,
   "id": "31964eae-ec40-4db8-8ac6-249786793984",
   "metadata": {},
   "outputs": [
    {
     "data": {
      "text/plain": [
       "array([0, 1, 2, 3, 4, 5, 6, 7, 8])"
      ]
     },
     "execution_count": 103,
     "metadata": {},
     "output_type": "execute_result"
    }
   ],
   "source": [
    "a = np.arange(9) # 3*3 =9\n",
    "a"
   ]
  },
  {
   "cell_type": "code",
   "execution_count": 105,
   "id": "6fac1df2-39e5-4f1a-b7cb-88563cf07a6b",
   "metadata": {},
   "outputs": [
    {
     "data": {
      "text/plain": [
       "array([[0, 1, 2],\n",
       "       [3, 4, 5],\n",
       "       [6, 7, 8]])"
      ]
     },
     "execution_count": 105,
     "metadata": {},
     "output_type": "execute_result"
    }
   ],
   "source": [
    "a = a.reshape(3,3)\n",
    "a"
   ]
  },
  {
   "cell_type": "code",
   "execution_count": 107,
   "id": "46dd10e5-33e0-44bb-8c99-202dd22c66de",
   "metadata": {},
   "outputs": [
    {
     "data": {
      "text/plain": [
       "array([[0, 1, 2, 3, 4, 5, 6, 7, 8]])"
      ]
     },
     "execution_count": 107,
     "metadata": {},
     "output_type": "execute_result"
    }
   ],
   "source": [
    "# reshape \n",
    "np.reshape(a, newshape=(1,9), order= 'c')"
   ]
  },
  {
   "cell_type": "code",
   "execution_count": 109,
   "id": "b3bd539b-7c21-467d-9643-0c995abc958e",
   "metadata": {},
   "outputs": [
    {
     "data": {
      "text/plain": [
       "array([1, 2, 3, 4, 5, 6, 7, 8, 9])"
      ]
     },
     "execution_count": 109,
     "metadata": {},
     "output_type": "execute_result"
    }
   ],
   "source": [
    "# convert 1D into 2D\n",
    "a =np.array([1,2,3,4,5,6,7,8,9])\n",
    "a"
   ]
  },
  {
   "cell_type": "code",
   "execution_count": 111,
   "id": "393be98c-6049-4bff-82c6-6077f22426b0",
   "metadata": {},
   "outputs": [
    {
     "data": {
      "text/plain": [
       "(9,)"
      ]
     },
     "execution_count": 111,
     "metadata": {},
     "output_type": "execute_result"
    }
   ],
   "source": [
    "a.shape"
   ]
  },
  {
   "cell_type": "code",
   "execution_count": 113,
   "id": "4553cd3a-9f1f-4732-af6e-f0a36805bf77",
   "metadata": {},
   "outputs": [
    {
     "data": {
      "text/plain": [
       "array([[1, 2, 3, 4, 5, 6, 7, 8, 9]])"
      ]
     },
     "execution_count": 113,
     "metadata": {},
     "output_type": "execute_result"
    }
   ],
   "source": [
    "# row wise 2D\n",
    "b = a[np.newaxis, :]\n",
    "b"
   ]
  },
  {
   "cell_type": "code",
   "execution_count": 115,
   "id": "4f556106-748e-4c05-9c59-fa360bb7c607",
   "metadata": {},
   "outputs": [
    {
     "data": {
      "text/plain": [
       "(1, 9)"
      ]
     },
     "execution_count": 115,
     "metadata": {},
     "output_type": "execute_result"
    }
   ],
   "source": [
    "b.shape"
   ]
  },
  {
   "cell_type": "code",
   "execution_count": 117,
   "id": "f601a58f-fe23-4af9-81c1-64e2d2785bac",
   "metadata": {},
   "outputs": [
    {
     "data": {
      "text/plain": [
       "array([[1],\n",
       "       [2],\n",
       "       [3],\n",
       "       [4],\n",
       "       [5],\n",
       "       [6],\n",
       "       [7],\n",
       "       [8],\n",
       "       [9]])"
      ]
     },
     "execution_count": 117,
     "metadata": {},
     "output_type": "execute_result"
    }
   ],
   "source": [
    "# column wise\n",
    "c = a[: , np.newaxis]\n",
    "c"
   ]
  },
  {
   "cell_type": "code",
   "execution_count": 119,
   "id": "961c39e0-4060-4783-8704-e6ce1e4398e9",
   "metadata": {},
   "outputs": [
    {
     "data": {
      "text/plain": [
       "array([1, 2, 3, 4, 5, 6, 7, 8, 9])"
      ]
     },
     "execution_count": 119,
     "metadata": {},
     "output_type": "execute_result"
    }
   ],
   "source": [
    "a"
   ]
  },
  {
   "cell_type": "code",
   "execution_count": 121,
   "id": "92445080-3349-4ef2-8c1a-25c0448eefb3",
   "metadata": {},
   "outputs": [
    {
     "data": {
      "text/plain": [
       "array([3, 4, 5, 6])"
      ]
     },
     "execution_count": 121,
     "metadata": {},
     "output_type": "execute_result"
    }
   ],
   "source": [
    "a[2:6]"
   ]
  },
  {
   "cell_type": "code",
   "execution_count": 123,
   "id": "0317a18a-5de1-46e3-9ce4-1df70fb56553",
   "metadata": {},
   "outputs": [
    {
     "data": {
      "text/plain": [
       "array([3, 4, 5, 6, 7, 8, 9])"
      ]
     },
     "execution_count": 123,
     "metadata": {},
     "output_type": "execute_result"
    }
   ],
   "source": [
    "a[2:9]"
   ]
  },
  {
   "cell_type": "code",
   "execution_count": 125,
   "id": "384d7adb-a0ec-4a11-b6de-99362b70306a",
   "metadata": {},
   "outputs": [
    {
     "data": {
      "text/plain": [
       "array([ 6, 12, 18, 24, 30, 36, 42, 48, 54])"
      ]
     },
     "execution_count": 125,
     "metadata": {},
     "output_type": "execute_result"
    }
   ],
   "source": [
    "a*6"
   ]
  },
  {
   "cell_type": "code",
   "execution_count": 127,
   "id": "b37f5e3e-661e-4ade-a147-01b7b549b72c",
   "metadata": {},
   "outputs": [
    {
     "data": {
      "text/plain": [
       "array([ 7,  8,  9, 10, 11, 12, 13, 14, 15])"
      ]
     },
     "execution_count": 127,
     "metadata": {},
     "output_type": "execute_result"
    }
   ],
   "source": [
    "a+6"
   ]
  },
  {
   "cell_type": "code",
   "execution_count": 129,
   "id": "30593e5f-a075-42f9-b40d-a665e2760d9a",
   "metadata": {},
   "outputs": [
    {
     "data": {
      "text/plain": [
       "45"
      ]
     },
     "execution_count": 129,
     "metadata": {},
     "output_type": "execute_result"
    }
   ],
   "source": [
    "a.sum()"
   ]
  },
  {
   "cell_type": "code",
   "execution_count": 131,
   "id": "b93fd61c-ac33-4be7-b200-53fd3d8599d6",
   "metadata": {},
   "outputs": [
    {
     "data": {
      "text/plain": [
       "5.0"
      ]
     },
     "execution_count": 131,
     "metadata": {},
     "output_type": "execute_result"
    }
   ],
   "source": [
    "a.mean()"
   ]
  },
  {
   "cell_type": "code",
   "execution_count": null,
   "id": "5ab7d8f9-f002-4fd7-b241-21d4d437e53b",
   "metadata": {},
   "outputs": [],
   "source": []
  }
 ],
 "metadata": {
  "kernelspec": {
   "display_name": "Python 3 (ipykernel)",
   "language": "python",
   "name": "python3"
  },
  "language_info": {
   "codemirror_mode": {
    "name": "ipython",
    "version": 3
   },
   "file_extension": ".py",
   "mimetype": "text/x-python",
   "name": "python",
   "nbconvert_exporter": "python",
   "pygments_lexer": "ipython3",
   "version": "3.12.4"
  }
 },
 "nbformat": 4,
 "nbformat_minor": 5
}
