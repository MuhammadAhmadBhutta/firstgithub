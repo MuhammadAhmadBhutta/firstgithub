{
 "cells": [
  {
   "cell_type": "markdown",
   "id": "f8d3182e-acdd-4ac2-b6ef-674c64b3dcdf",
   "metadata": {},
   "source": [
    "# python learing with Ahmad Bhutta\n",
    "# How to use jupyter notebook\n",
    "## Basics of python\n",
    "### **01- My first program**|"
   ]
  },
  {
   "cell_type": "raw",
   "id": "ab6ff12e-3c01-4a59-988a-d13d9cf652bd",
   "metadata": {},
   "source": [
    "print(2+5)\r\n",
    "print(\"Hello world\")\r\n",
    "print(\"we are learing python with ahmadbhutta\")\r\n",
    "print(1200+1300)\r\n",
    "print(\"we_are_very_exected_to_learing_a_python_programing\")\r\n",
    "print(200+300)\r\n",
    "print(12000+50000)\r\n",
    "print(2000+3000)\r\n",
    "print(5000-2000)\r\n",
    "print(\"Home to Home\")\r\n",
    "print(\"We_very_execting_to_learing_a_computer_language\")"
   ]
  },
  {
   "cell_type": "markdown",
   "id": "4a578581-7542-4070-a8f6-aaac9daa593c",
   "metadata": {},
   "source": [
    "## **02-operators**"
   ]
  },
  {
   "cell_type": "code",
   "execution_count": 3,
   "id": "e0337965-938e-4712-83d9-c57f98a94be6",
   "metadata": {},
   "outputs": [
    {
     "name": "stdout",
     "output_type": "stream",
     "text": [
      "11.0\n",
      "0.5\n",
      "7\n",
      "176\n",
      "-33\n",
      "13.833333333333332\n"
     ]
    }
   ],
   "source": [
    "print(22/2)\n",
    "print(2/4)\n",
    "print(2+5)\n",
    "print(44*4)\n",
    "print(22-55)\n",
    "print(3**2/2+22/3+6-4)"
   ]
  },
  {
   "cell_type": "markdown",
   "id": "3ae7168b-a5c9-4256-b602-7680bdeae008",
   "metadata": {},
   "source": [
    "#### *PEMDAS paranthesis Exponents Multiply Divide Addition Substraction left to right sequence for M D & AS*"
   ]
  },
  {
   "cell_type": "markdown",
   "id": "55b8d9ea-04fc-436e-88af-8a2d6b18ff10",
   "metadata": {},
   "source": [
    "## **03-strings**"
   ]
  },
  {
   "cell_type": "code",
   "execution_count": 6,
   "id": "2bb5a674-57a9-40ee-a022-e32a774aaffe",
   "metadata": {},
   "outputs": [
    {
     "name": "stdout",
     "output_type": "stream",
     "text": [
      "hello_my_pc\n",
      "you are my best friend\n",
      "i am to try to spend my best\n"
     ]
    }
   ],
   "source": [
    "print('hello_my_pc')\n",
    "print(\"you are my best friend\")\n",
    "print('i am to try to spend my best')"
   ]
  },
  {
   "cell_type": "markdown",
   "id": "40141dac-228b-4103-91d7-157cf4753d26",
   "metadata": {},
   "source": [
    "## **04-comments in python**\n",
    "The shorcut key to comments is **ctrl+/**"
   ]
  },
  {
   "cell_type": "code",
   "execution_count": 8,
   "id": "cee18187-2c69-44e0-a857-b9e7652498c1",
   "metadata": {},
   "outputs": [
    {
     "name": "stdout",
     "output_type": "stream",
     "text": [
      "how are you\n",
      "i am best man\n",
      "we are good student\n",
      "577\n"
     ]
    }
   ],
   "source": [
    "print(\"how are you\")              #23323\n",
    "print(\"i am best man\")            #press these to comment out (ctrl+/)\n",
    "print(\"we are good student\")   #we be best\n",
    "print(22+555)\n",
    "\n"
   ]
  },
  {
   "cell_type": "markdown",
   "id": "31f21331-3611-4274-85d3-da2afd8564fb",
   "metadata": {},
   "source": [
    "## **05-variables**\r",
    ")\r\n",
    "\r\n",
    "\r\n",
    "\r\n"
   ]
  },
  {
   "cell_type": "code",
   "execution_count": 10,
   "id": "8e3fa633-98f7-4ca0-a94a-3aa25aae520b",
   "metadata": {},
   "outputs": [
    {
     "name": "stdout",
     "output_type": "stream",
     "text": [
      "5\n",
      "we are learning python with ahmad bhutta\n",
      "35\n",
      "<class 'str'>\n",
      "mangoes\n"
     ]
    }
   ],
   "source": [
    "#variabes : objects containing specific values\n",
    "x= 5\n",
    "# numeric or integer variable\n",
    "print(x)\n",
    "\n",
    "y=\"we are learning python with ahmad bhutta\" \n",
    "#string variable\n",
    "print(y)\n",
    "\n",
    "x= x+30\n",
    "\n",
    "print(x)\n",
    "\n",
    "\n",
    "#types/class of variable \n",
    "# type(x)\n",
    "# print(type(x))\n",
    "# type(y)\n",
    "# print(type(y))\n",
    "# print_type_class\n",
    "\n",
    "# 1- The varianle should contain letters,number or underscores\n",
    "# 2- Do not start with numbers \n",
    "# 3- spaces are not allowed\n",
    "# 4- Dot not keywords uesd in function (break, mean, media, test etc)\n",
    "# 5- short and descriptive\n",
    "# 6- case senstivity (lowercase, uppercase letters, lower should be used )\n",
    "\n",
    "\n",
    "\n",
    "fruit_basket= 8\n",
    "fruit_basket= \"mangoes\"\n",
    "\n",
    "print(type(fruit_basket))\n",
    "\n",
    "print(fruit_basket)\n",
    "\n",
    "\n",
    "\n"
   ]
  },
  {
   "cell_type": "raw",
   "id": "de408d08-8824-4b5d-bb91-819a4b5569a2",
   "metadata": {},
   "source": [
    "## **06-input variables**"
   ]
  },
  {
   "cell_type": "code",
   "execution_count": null,
   "id": "7e3d33ef-1afc-42e6-8d71-6d729c84aa98",
   "metadata": {
    "scrolled": true
   },
   "outputs": [
    {
     "name": "stdout",
     "output_type": "stream",
     "text": [
      "mangoes\n"
     ]
    }
   ],
   "source": [
    "fruit_basket=\"mangoes\"\n",
    "print(fruit_basket)\n",
    "\n",
    "# input function simple\n",
    "fruit_basket=input(\"what is your favourite fruit ?\")\n",
    "print(fruit_basket)\n",
    "\n",
    "# input function of 2nd stage\n",
    "name= input(\"what is your name?\")\n",
    "greethings= \"Assalam o alaikum!\"\n",
    "print(greethings,name)\n",
    "\n",
    "# Another way of stage 2 input function\n",
    "name= input(\"what is your name?\")\n",
    "\n",
    "print(\"Assalam o alaikum!\",name)\n",
    "\n",
    "# 3rd stage input function\n",
    "name= input(\"what is your name? \")\n",
    "age= input(\"how old are you? \")\n",
    "greetings=\"Assalam o alaikum!\"\n",
    "\n",
    "print(greetings,name,\", you are still young\")\n",
    "\n",
    "\n"
   ]
  },
  {
   "cell_type": "markdown",
   "id": "cf59254a-5a01-4e89-83b2-2141516aca63",
   "metadata": {},
   "source": [
    "## **07-condition logics**"
   ]
  },
  {
   "cell_type": "code",
   "execution_count": null,
   "id": "551bab0f-49e6-48dc-a8ff-039839c20a78",
   "metadata": {},
   "outputs": [],
   "source": [
    "# logical operators are either \"true or false\" or \"yes or no\" or \"0 or 1\"\n",
    "# equal to                  ==\n",
    "# not equal to              !=\n",
    "# less than                 <\n",
    "# greater than              >\n",
    "# less than and equal to    <=\n",
    "# greater than and equal to >=\n",
    "\n",
    "# is 4 is equal to 4\n",
    "print(4==4)\n",
    "print(4!=4)\n",
    "print(4>3)\n",
    "print(3>6)\n",
    "print(3<=5)\n",
    "print(5>=4)\n",
    "\n",
    "# applicantion of logical operators\n",
    "Asjal_age=4\n",
    "age_at_school=5\n",
    "print(Asjal_age==age_at_school)\n",
    "\n",
    "\n",
    "\n",
    "# input function and logical operator\n",
    "\n",
    "age_at_school=5\n",
    "Asjal_age=input(\"How old is asjal?\") #input function\n",
    "Asjal_age=int(Asjal_age)\n",
    "print(type(Asjal_age))\n",
    "print(Asjal_age==age_at_school) #logical operator\n",
    "\n",
    "\n",
    "\n",
    "\n",
    "\n"
   ]
  },
  {
   "cell_type": "markdown",
   "id": "53ff5870-e25e-45eb-8031-e7fd021fcea8",
   "metadata": {},
   "source": [
    "## **08-type of conversion**"
   ]
  },
  {
   "cell_type": "code",
   "execution_count": null,
   "id": "e1d4b8f8-00a6-4d57-a072-1181120512e7",
   "metadata": {},
   "outputs": [],
   "source": [
    "# x = 10              #intege\n",
    "# y = 10.2            #float\n",
    "# z = \"Hello\"         #string\n",
    "\n",
    "\n",
    "#implicit type conversion\n",
    "y= x+y\n",
    "print(x,\"type of x is:\",type(x))\n",
    "\n",
    "\n",
    "age=input(\"what is your age?\")\n",
    "age=int(age)\n",
    "print(age,type(int(age)))\n",
    "\n",
    "#name\n",
    "name=input(\"what is your name?\")\n",
    "print(name,type(str(name)))\n",
    "\n"
   ]
  },
  {
   "cell_type": "markdown",
   "id": "dff2a396-c4b4-45db-910b-9c49e23f4613",
   "metadata": {},
   "source": [
    "## **09-if else &elif**"
   ]
  },
  {
   "cell_type": "code",
   "execution_count": null,
   "id": "2582e31a-8cf9-4d48-8cb4-211e400723e7",
   "metadata": {},
   "outputs": [],
   "source": [
    "requried_age_at_school = 5\n",
    "Asjal_age= 2\n",
    "\n",
    "# question: can asjal go to school\n",
    "\n",
    "if Asjal_age==requried_age_at_school:\n",
    "    print(\"Asjal can go to school\")\n",
    "elif Asjal_age>requried_age_at_school:\n",
    "     print(\"Asjal should go to higher school\")\n",
    "elif Asjal_age <= 3:\n",
    "    print(\" You should take care of asjal,he still a baby\")\n",
    "else:\n",
    "    print(\"Asjal can not go to school\")\n",
    "\n",
    "\n",
    "\n",
    "\n"
   ]
  },
  {
   "cell_type": "markdown",
   "id": "3e75797b-ba26-4a6d-80f5-07d629647fcc",
   "metadata": {},
   "source": [
    "## **10-function**"
   ]
  },
  {
   "cell_type": "code",
   "execution_count": null,
   "id": "05086d17-5630-4a62-976c-8c7eeb9092ee",
   "metadata": {},
   "outputs": [],
   "source": [
    "\n",
    "#Defining a functions\n",
    "# def print_Bhutta():\n",
    "#     print(\"we are learing with ahmad \")\n",
    "#     print(\"we are learing with ahmad \")\n",
    "#     print(\"we are learing with ahmad \")\n",
    "\n",
    "#2 \n",
    "# def print_Bhutta():\n",
    "    #   text = \"we are learing python with ahmad\"  \n",
    "#       print(text)  \n",
    "#       print(text)\n",
    "#       print(text)  \n",
    "\n",
    "# print_Bhutta()\n",
    "# #3 \n",
    "# def print_Ahmad(text):\n",
    "#     print(text)\n",
    "#     print(text)\n",
    "#     print(text)\n",
    "# print_Ahmad(\"we are learning python with ahmad\")\n",
    "\n",
    "# defining a function with if,else and elif\n",
    "\n",
    "def school_calculator(age):\n",
    "    if age==5:\n",
    "        print(\"asjal can join the school\")    \n",
    "    elif age>5:\n",
    "        print(\"asjal should go to higher school\")\n",
    "    else:     \n",
    "        print(\"asjal is still a baby\")\n",
    "school_calculator(10)\n",
    "\n",
    "# defining a function of future\n",
    "\n",
    "def future_age(age):\n",
    "    new_age=age+20\n",
    "    return new_age\n",
    "    print(new_age)\n",
    "\n",
    "future_predicted_age= future_age(20)\n",
    "print(future_predicted_age)\n"
   ]
  },
  {
   "cell_type": "markdown",
   "id": "d17d5584-e887-4f15-bd4f-95ce3dad962a",
   "metadata": {},
   "source": [
    "## **11-loops**"
   ]
  },
  {
   "cell_type": "code",
   "execution_count": null,
   "id": "01eeaab4-245f-40af-9f4c-161be43760af",
   "metadata": {},
   "outputs": [],
   "source": [
    "# while and for loops\n",
    " #while\n",
    "# x=0\n",
    "#  while (x<=5)\n",
    "#     print(x)\n",
    "#     x=x+1\n",
    "\n",
    "# for loop\n",
    "# for x in range(4,12):\n",
    "#     print(x)    \n",
    "\n",
    "# array\n",
    "days = [\"mon\",\"tue\",\"wed\",\"thu\",\"fri\",\"sat\",\"sun\"]\n",
    "\n",
    "for d in days:\n",
    "    if (d==\"fri\"):break #loop stops\n",
    "    # if (d==\"fri\"):continue #skips d\n",
    "    print(d)\n",
    "\n"
   ]
  },
  {
   "cell_type": "markdown",
   "id": "c4e112b7-9e05-449f-a2e8-3d8a815ec009",
   "metadata": {},
   "source": [
    "## **12-import libraries**"
   ]
  },
  {
   "cell_type": "code",
   "execution_count": null,
   "id": "f0fa91ff-a894-46da-8769-f1bc67693671",
   "metadata": {},
   "outputs": [],
   "source": [
    "#if you want to print the value of pi\n",
    "\n",
    "import math\n",
    "print(\"The value of pi\",math.pi)\n",
    "\n",
    "import statistics\n",
    "\n",
    "x= [150,250,350,450]\n",
    "\n",
    "print(statistics.mean(x))\n",
    "\n",
    "# numpy,pandas\n",
    "\n",
    "\n",
    "\n",
    "\n",
    "\n",
    "\n"
   ]
  },
  {
   "cell_type": "markdown",
   "id": "b40fd3ac-1ec3-42cd-a3f0-5f449b47a338",
   "metadata": {},
   "source": [
    "## **13-trouble shooting**"
   ]
  },
  {
   "cell_type": "code",
   "execution_count": null,
   "id": "e6a4d14d-0c22-4029-8a54-4781ac46e691",
   "metadata": {},
   "outputs": [],
   "source": [
    "# print(we are learing python with ahmad) #SyntaxError\n",
    "\n",
    "# print(25/0) #runtime error\n",
    "\n",
    "name = \"Ahmad\"\n",
    "# print(\"Hello\"+name)\n",
    "print(\"hello\", name)\n",
    "\n"
   ]
  }
 ],
 "metadata": {
  "kernelspec": {
   "display_name": "Python 3 (ipykernel)",
   "language": "python",
   "name": "python3"
  },
  "language_info": {
   "codemirror_mode": {
    "name": "ipython",
    "version": 3
   },
   "file_extension": ".py",
   "mimetype": "text/x-python",
   "name": "python",
   "nbconvert_exporter": "python",
   "pygments_lexer": "ipython3",
   "version": "3.12.4"
  }
 },
 "nbformat": 4,
 "nbformat_minor": 5
}
